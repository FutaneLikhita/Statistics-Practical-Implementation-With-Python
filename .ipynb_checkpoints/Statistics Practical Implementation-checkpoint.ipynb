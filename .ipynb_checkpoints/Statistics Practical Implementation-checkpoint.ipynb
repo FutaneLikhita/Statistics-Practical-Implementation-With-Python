{
 "cells": [
  {
   "cell_type": "markdown",
   "id": "aea8442d-c3fd-4fad-92fd-9dc977f64e0c",
   "metadata": {},
   "source": [
    "# Statistics Practical Implementation "
   ]
  },
  {
   "cell_type": "markdown",
   "id": "793e1951-e102-4f5f-8a57-436d3c9427ab",
   "metadata": {},
   "source": [
    "## Measure Of Central Tendency"
   ]
  },
  {
   "cell_type": "markdown",
   "id": "d04b8bcb-c595-4cef-95ca-cd7f8a976731",
   "metadata": {},
   "source": [
    "### 1. Mean\n",
    "### 2. Median\n",
    "### 3. Mode"
   ]
  },
  {
   "cell_type": "code",
   "execution_count": null,
   "id": "e3d4c701-345f-4fbb-9ffd-a5b283c94c7d",
   "metadata": {},
   "outputs": [],
   "source": []
  },
  {
   "cell_type": "markdown",
   "id": "69b245e0-e6ce-46a6-9f65-9c8c09db61e4",
   "metadata": {},
   "source": [
    "### Mean and Median Using Numpy"
   ]
  },
  {
   "cell_type": "code",
   "execution_count": 1,
   "id": "35ba979c-a091-48d3-949e-2daca2960dd4",
   "metadata": {},
   "outputs": [],
   "source": [
    "import numpy as np "
   ]
  },
  {
   "cell_type": "code",
   "execution_count": 2,
   "id": "c870fe73-56bb-4721-8161-1591e7074448",
   "metadata": {},
   "outputs": [
    {
     "name": "stdout",
     "output_type": "stream",
     "text": [
      "37.36363636363637\n",
      "32.0\n"
     ]
    }
   ],
   "source": [
    "ages = [23, 24, 32, 45, 12, 43, 67, 45, 32, 56, 32] \n",
    "\n",
    "# Printing mean \n",
    "print(np.mean(ages))          \n",
    "\n",
    "# Printing median\n",
    "print(np.median(ages)) \n"
   ]
  },
  {
   "cell_type": "code",
   "execution_count": null,
   "id": "cb535180-5299-46e8-8ed6-adb8dde7ae50",
   "metadata": {},
   "outputs": [],
   "source": []
  },
  {
   "cell_type": "code",
   "execution_count": 3,
   "id": "fdea0497-5c56-4374-b2a3-20f266258235",
   "metadata": {},
   "outputs": [],
   "source": [
    "# "
   ]
  },
  {
   "cell_type": "code",
   "execution_count": 4,
   "id": "6c87ce71-8e77-4a0a-b2a6-f02db892e96c",
   "metadata": {},
   "outputs": [
    {
     "name": "stdout",
     "output_type": "stream",
     "text": [
      "46.75\n",
      "37.5\n"
     ]
    }
   ],
   "source": [
    "# Outlier\n",
    "\n",
    "ages = [23, 24, 32, 45, 12, 43, 67, 45, 32, 56, 32, 150]            # Outlier is 150\n",
    "\n",
    "# Printing mean \n",
    "print(np.mean(ages))           # Outlier ki vajah se mean par affect hota hai.\n",
    "\n",
    "# Printing median\n",
    "print(np.median(ages))         # But median par nhi.\n"
   ]
  },
  {
   "cell_type": "code",
   "execution_count": null,
   "id": "088a4482-1182-4b0c-b1e3-28a614447b9c",
   "metadata": {},
   "outputs": [],
   "source": []
  },
  {
   "cell_type": "markdown",
   "id": "f9030f20-37c5-4da3-85ed-45e9922856ba",
   "metadata": {},
   "source": [
    "### Mean and Median Using Statistics "
   ]
  },
  {
   "cell_type": "code",
   "execution_count": 5,
   "id": "834fd344-dd80-47f0-8be7-60beab774a35",
   "metadata": {},
   "outputs": [],
   "source": [
    "import statistics"
   ]
  },
  {
   "cell_type": "code",
   "execution_count": 6,
   "id": "96e427ed-70d8-4052-8199-b64471a9ce9d",
   "metadata": {},
   "outputs": [
    {
     "name": "stdout",
     "output_type": "stream",
     "text": [
      "46.75\n",
      "37.5\n"
     ]
    }
   ],
   "source": [
    "# Printing mean by statistics\n",
    "print(statistics.mean(ages))\n",
    "\n",
    "# Printing median by statistics        \n",
    "print(statistics.median(ages))            # Ye dono bhi same hi hai upar ke jaise.\n",
    "                                          # Bhot sare Outliers hai to missing values ko replace karne ke liye Median use hota hai."
   ]
  },
  {
   "cell_type": "code",
   "execution_count": null,
   "id": "69700fab-fe36-4841-9c0d-784afbed4152",
   "metadata": {},
   "outputs": [],
   "source": []
  },
  {
   "cell_type": "markdown",
   "id": "2a65d502-59da-455d-b859-4e7cffe393a4",
   "metadata": {},
   "source": [
    "### Mode Using Statistics "
   ]
  },
  {
   "cell_type": "code",
   "execution_count": 7,
   "id": "eb08801b-1ec4-4cf6-89d8-a823495c7c7f",
   "metadata": {},
   "outputs": [
    {
     "name": "stdout",
     "output_type": "stream",
     "text": [
      "32\n"
     ]
    }
   ],
   "source": [
    "# Printing mode \n",
    "print(statistics.mode(ages))      # categorical variable nikalna hoga to ye use karte hai."
   ]
  },
  {
   "cell_type": "code",
   "execution_count": null,
   "id": "3ea445f5-28de-4ea5-9148-7f9c45a9619c",
   "metadata": {},
   "outputs": [],
   "source": []
  },
  {
   "cell_type": "markdown",
   "id": "7a3e6258-fae9-4120-b8af-50f8a67ad240",
   "metadata": {},
   "source": [
    "### Find Outliers \n",
    "### Removing Outliers"
   ]
  },
  {
   "cell_type": "code",
   "execution_count": 8,
   "id": "4ebedaf0-73cd-43b5-8f2e-6776623c65c8",
   "metadata": {},
   "outputs": [
    {
     "data": {
      "text/plain": [
       "<Axes: >"
      ]
     },
     "execution_count": 8,
     "metadata": {},
     "output_type": "execute_result"
    },
    {
     "data": {
      "image/png": "[encoded data removed]",
      "text/plain": [
       "<Figure size 640x480 with 1 Axes>"
      ]
     },
     "metadata": {},
     "output_type": "display_data"
    }
   ],
   "source": [
    "import seaborn as sns \n",
    "\n",
    "sns.boxplot(x = ages)"
   ]
  },
  {
   "cell_type": "code",
   "execution_count": null,
   "id": "b2b47377-de34-40b8-bb18-cda7af4cceac",
   "metadata": {},
   "outputs": [],
   "source": []
  },
  {
   "cell_type": "markdown",
   "id": "b914d89a-fd80-4f95-9936-87ca5500c478",
   "metadata": {},
   "source": [
    "## Number Summery"
   ]
  },
  {
   "cell_type": "code",
   "execution_count": 9,
   "id": "ae6c54cd-e5e9-4868-89e0-028463ed7b6f",
   "metadata": {},
   "outputs": [
    {
     "name": "stdout",
     "output_type": "stream",
     "text": [
      "q1 : 30.0\n",
      "q3 : 47.75\n"
     ]
    }
   ],
   "source": [
    "import numpy as np\n",
    "\n",
    "q1,q3 = np.percentile(ages, [25, 75])\n",
    "\n",
    "print(\"q1 :\",  q1,)\n",
    "print(\"q3 :\",  q3,)"
   ]
  },
  {
   "cell_type": "code",
   "execution_count": null,
   "id": "5d6f86c5-78ae-4579-af5d-512014f76586",
   "metadata": {},
   "outputs": [],
   "source": []
  },
  {
   "cell_type": "markdown",
   "id": "b104ab1b-9fbf-4f41-a643-dbbc7453a05e",
   "metadata": {},
   "source": [
    "### To Check Outlier (Lower fence - Higher fence)"
   ]
  },
  {
   "cell_type": "code",
   "execution_count": 10,
   "id": "0d89748f-cb3d-49f7-bd0b-954305e97a3a",
   "metadata": {},
   "outputs": [
    {
     "name": "stdout",
     "output_type": "stream",
     "text": [
      "lower_fence : 3.375\n",
      "higher_fence : 74.375\n"
     ]
    }
   ],
   "source": [
    "IQR = q3 - q1\n",
    "\n",
    "# Creating lower_fence\n",
    "lower_fence = q1 - 1.5 *(IQR)\n",
    "\n",
    "# Creating Higher-fence\n",
    "higher_fence = q3 + 1.5 * (IQR)\n",
    "\n",
    "# Printing lower_fence\n",
    "print(\"lower_fence :\", lower_fence)\n",
    "\n",
    "# Printing Higher_fence\n",
    "print(\"higher_fence :\", higher_fence)"
   ]
  },
  {
   "cell_type": "code",
   "execution_count": 11,
   "id": "5443c56a-c17e-41d6-8340-bcfb070f037e",
   "metadata": {},
   "outputs": [
    {
     "name": "stdout",
     "output_type": "stream",
     "text": [
      "71.0\n"
     ]
    }
   ],
   "source": [
    "# Printing IQR\n",
    "IQR = q3 - q1\n",
    "\n",
    "IQR = 74.375 - 3.375\n",
    "\n",
    "print(IQR)"
   ]
  },
  {
   "cell_type": "code",
   "execution_count": null,
   "id": "284299aa-7e82-4663-bb53-ea19bcd7c95f",
   "metadata": {},
   "outputs": [],
   "source": []
  },
  {
   "cell_type": "markdown",
   "id": "46625174-8e6d-49f4-9057-e8a6176dbd55",
   "metadata": {},
   "source": [
    "## Measure of Dispersion"
   ]
  },
  {
   "cell_type": "markdown",
   "id": "0a6e88e8-14df-4223-ae05-0e9e7aadf514",
   "metadata": {},
   "source": [
    "### 1. Variance\n",
    "### 2. Standard Deviation"
   ]
  },
  {
   "cell_type": "code",
   "execution_count": 16,
   "id": "3d4e3341-b4f0-46c3-872d-25ea52b3b79f",
   "metadata": {},
   "outputs": [
    {
     "data": {
      "text/plain": [
       "1283.4772727272727"
      ]
     },
     "execution_count": 16,
     "metadata": {},
     "output_type": "execute_result"
    }
   ],
   "source": [
    "statistics.variance(ages)    # Using Sample Variance -- Divided by n - 1\n"
   ]
  },
  {
   "cell_type": "code",
   "execution_count": 15,
   "id": "93cd1f7e-64f0-4c74-9bf7-3e52d75eb9d7",
   "metadata": {},
   "outputs": [
    {
     "data": {
      "text/plain": [
       "np.float64(1176.5208333333333)"
      ]
     },
     "execution_count": 15,
     "metadata": {},
     "output_type": "execute_result"
    }
   ],
   "source": [
    "np.var(ages, axis = 0)      # Using Population Variance -- Divided by n"
   ]
  },
  {
   "cell_type": "code",
   "execution_count": 23,
   "id": "747dd14a-b44a-4d96-8c9b-6fc45f6b0f47",
   "metadata": {},
   "outputs": [],
   "source": [
    "## For Population Variance\n",
    "\n",
    "def variance(data):\n",
    "    n = len(ages)\n",
    "\n",
    "    ## Mean of the data \n",
    "\n",
    "    mean = sum(data)/n\n",
    "\n",
    "    # Variance\n",
    "\n",
    "    deviation = [(x - mean) ** 2 for x in data]\n",
    "\n",
    "    variance = sum(deviation)/n             # Population variance hai\n",
    "\n",
    "    return variance\n"
   ]
  },
  {
   "cell_type": "code",
   "execution_count": 24,
   "id": "0780fb28-efd0-4b2d-bcff-6c3219ceba19",
   "metadata": {},
   "outputs": [
    {
     "data": {
      "text/plain": [
       "1176.5208333333333"
      ]
     },
     "execution_count": 24,
     "metadata": {},
     "output_type": "execute_result"
    }
   ],
   "source": [
    "variance(ages)"
   ]
  },
  {
   "cell_type": "code",
   "execution_count": 25,
   "id": "ccbda4b7-89b5-432e-9901-99c473b43cdb",
   "metadata": {},
   "outputs": [],
   "source": [
    "## For Sample Variance\n",
    "\n",
    "def variance(data):\n",
    "    n = len(ages)\n",
    "\n",
    "    ## Mean of the data \n",
    "\n",
    "    mean = sum(data)/n\n",
    "\n",
    "    # Variance\n",
    "\n",
    "    deviation = [(x - mean) ** 2 for x in data]\n",
    "\n",
    "    variance = sum(deviation)/(n-1)             # Population variance hai\n",
    "\n",
    "    return variance"
   ]
  },
  {
   "cell_type": "code",
   "execution_count": 26,
   "id": "9a457084-bb74-4c59-9955-da489a426f96",
   "metadata": {},
   "outputs": [
    {
     "data": {
      "text/plain": [
       "1283.4772727272727"
      ]
     },
     "execution_count": 26,
     "metadata": {},
     "output_type": "execute_result"
    }
   ],
   "source": [
    "variance(ages)"
   ]
  },
  {
   "cell_type": "code",
   "execution_count": 29,
   "id": "0912aaf1-bc69-4181-a9ad-feb9d3e50841",
   "metadata": {},
   "outputs": [],
   "source": [
    "## Degree of Freedom (dof)\n",
    "## 0 = Population dof, 1 = Sample dof\n",
    "\n",
    "def variance(data, dof = 0):\n",
    "    n = len(ages)\n",
    "\n",
    "    # Mean of the data\n",
    "\n",
    "    mean = sum(data)/n\n",
    "\n",
    "    # Variance\n",
    "\n",
    "    deviation = [(x - mean) ** 2 for x in data]\n",
    "    variance = sum(deviation)/(n - dof)\n",
    "    return variance\n",
    "\n"
   ]
  },
  {
   "cell_type": "code",
   "execution_count": 30,
   "id": "89cca234-820e-4b53-8c74-2231d4d6b176",
   "metadata": {},
   "outputs": [
    {
     "data": {
      "text/plain": [
       "1283.4772727272727"
      ]
     },
     "execution_count": 30,
     "metadata": {},
     "output_type": "execute_result"
    }
   ],
   "source": [
    "variance(ages, dof = 1)"
   ]
  },
  {
   "cell_type": "code",
   "execution_count": 31,
   "id": "aeb85a4a-c2c0-4865-af11-b92fa51b4fff",
   "metadata": {},
   "outputs": [],
   "source": [
    "def variance(data, dof = 1):\n",
    "    n = len(ages)\n",
    "\n",
    "    # Mean of the data\n",
    "\n",
    "    mean = sum(data)/n\n",
    "\n",
    "    # Variance\n",
    "\n",
    "    deviation = [(x - mean) ** 2 for x in data]\n",
    "    variance = sum(deviation)/(n - dof)\n",
    "    return variance"
   ]
  },
  {
   "cell_type": "code",
   "execution_count": 32,
   "id": "596e9d29-ad67-4534-b09a-56dd0559a560",
   "metadata": {},
   "outputs": [
    {
     "data": {
      "text/plain": [
       "1176.5208333333333"
      ]
     },
     "execution_count": 32,
     "metadata": {},
     "output_type": "execute_result"
    }
   ],
   "source": [
    "variance(ages, dof = 0)"
   ]
  },
  {
   "cell_type": "code",
   "execution_count": null,
   "id": "19034bf9-ed38-409d-93e9-284746587146",
   "metadata": {},
   "outputs": [],
   "source": [
    "\n"
   ]
  },
  {
   "cell_type": "code",
   "execution_count": 34,
   "id": "c65c0c6d-67c8-482c-8866-ebc8b2549ada",
   "metadata": {},
   "outputs": [
    {
     "data": {
      "text/plain": [
       "1176.5208333333333"
      ]
     },
     "execution_count": 34,
     "metadata": {},
     "output_type": "execute_result"
    }
   ],
   "source": [
    "## Isse bhi population variance nikal sakta hai.\n",
    "\n",
    "statistics.pvariance(ages)   "
   ]
  },
  {
   "cell_type": "code",
   "execution_count": null,
   "id": "3397c760-3dde-451f-adf4-22cf3381781b",
   "metadata": {},
   "outputs": [],
   "source": []
  },
  {
   "cell_type": "code",
   "execution_count": 35,
   "id": "05a67678-18cf-4761-b790-ce7cdd2b95af",
   "metadata": {},
   "outputs": [
    {
     "data": {
      "text/plain": [
       "34.30044946255563"
      ]
     },
     "execution_count": 35,
     "metadata": {},
     "output_type": "execute_result"
    }
   ],
   "source": [
    "# Find Standard Deviation\n",
    "\n",
    "import math\n",
    "math.sqrt(statistics.pvariance(ages))"
   ]
  },
  {
   "cell_type": "code",
   "execution_count": null,
   "id": "4ed6e458-587c-44ed-bae5-82f76ed4d044",
   "metadata": {},
   "outputs": [],
   "source": []
  },
  {
   "cell_type": "markdown",
   "id": "f417fa25-cc40-493b-bcb9-8126007bac2f",
   "metadata": {},
   "source": [
    "# Histograms And PDF"
   ]
  },
  {
   "cell_type": "code",
   "execution_count": 37,
   "id": "fe27e76b-4522-4fe6-b862-2a4138618f8c",
   "metadata": {},
   "outputs": [
    {
     "data": {
      "text/plain": [
       "<Axes: ylabel='Count'>"
      ]
     },
     "execution_count": 37,
     "metadata": {},
     "output_type": "execute_result"
    },
    {
     "data": {
      "image/png": "[encoded data removed]",
      "text/plain": [
       "<Figure size 640x480 with 1 Axes>"
      ]
     },
     "metadata": {},
     "output_type": "display_data"
    }
   ],
   "source": [
    "import seaborn as sns\n",
    "sns.histplot(ages)"
   ]
  },
  {
   "cell_type": "code",
   "execution_count": 39,
   "id": "b0466479-e4a4-47a3-9e0b-a4df613ac98a",
   "metadata": {},
   "outputs": [
    {
     "data": {
      "text/plain": [
       "<Axes: ylabel='Count'>"
      ]
     },
     "execution_count": 39,
     "metadata": {},
     "output_type": "execute_result"
    },
    {
     "data": {
      "image/png": "[encoded data removed]",
      "text/plain": [
       "<Figure size 640x480 with 1 Axes>"
      ]
     },
     "metadata": {},
     "output_type": "display_data"
    }
   ],
   "source": [
    "# Probability density function\n",
    "\n",
    "import seaborn as sns\n",
    "sns.histplot(ages, kde = True)"
   ]
  },
  {
   "cell_type": "code",
   "execution_count": null,
   "id": "9f015948-9a8a-4f4b-8e2d-58f508652b5b",
   "metadata": {},
   "outputs": [],
   "source": []
  },
  {
   "cell_type": "markdown",
   "id": "2e1a3476-ebd7-420e-964a-44b644a00592",
   "metadata": {},
   "source": [
    "## Sample Dataset"
   ]
  },
  {
   "cell_type": "code",
   "execution_count": 40,
   "id": "73fde37e-0ace-4dfe-9e6f-427c77ace000",
   "metadata": {},
   "outputs": [],
   "source": [
    "df = sns.load_dataset('iris')"
   ]
  },
  {
   "cell_type": "code",
   "execution_count": 41,
   "id": "ea462df2-ec41-4d17-b106-294370033573",
   "metadata": {},
   "outputs": [
    {
     "data": {
      "text/html": [
       "<div>\n",
       "<style scoped>\n",
       "    .dataframe tbody tr th:only-of-type {\n",
       "        vertical-align: middle;\n",
       "    }\n",
       "\n",
       "    .dataframe tbody tr th {\n",
       "        vertical-align: top;\n",
       "    }\n",
       "\n",
       "    .dataframe thead th {\n",
       "        text-align: right;\n",
       "    }\n",
       "</style>\n",
       "<table border=\"1\" class=\"dataframe\">\n",
       "  <thead>\n",
       "    <tr style=\"text-align: right;\">\n",
       "      <th></th>\n",
       "      <th>sepal_length</th>\n",
       "      <th>sepal_width</th>\n",
       "      <th>petal_length</th>\n",
       "      <th>petal_width</th>\n",
       "      <th>species</th>\n",
       "    </tr>\n",
       "  </thead>\n",
       "  <tbody>\n",
       "    <tr>\n",
       "      <th>0</th>\n",
       "      <td>5.1</td>\n",
       "      <td>3.5</td>\n",
       "      <td>1.4</td>\n",
       "      <td>0.2</td>\n",
       "      <td>setosa</td>\n",
       "    </tr>\n",
       "    <tr>\n",
       "      <th>1</th>\n",
       "      <td>4.9</td>\n",
       "      <td>3.0</td>\n",
       "      <td>1.4</td>\n",
       "      <td>0.2</td>\n",
       "      <td>setosa</td>\n",
       "    </tr>\n",
       "    <tr>\n",
       "      <th>2</th>\n",
       "      <td>4.7</td>\n",
       "      <td>3.2</td>\n",
       "      <td>1.3</td>\n",
       "      <td>0.2</td>\n",
       "      <td>setosa</td>\n",
       "    </tr>\n",
       "    <tr>\n",
       "      <th>3</th>\n",
       "      <td>4.6</td>\n",
       "      <td>3.1</td>\n",
       "      <td>1.5</td>\n",
       "      <td>0.2</td>\n",
       "      <td>setosa</td>\n",
       "    </tr>\n",
       "    <tr>\n",
       "      <th>4</th>\n",
       "      <td>5.0</td>\n",
       "      <td>3.6</td>\n",
       "      <td>1.4</td>\n",
       "      <td>0.2</td>\n",
       "      <td>setosa</td>\n",
       "    </tr>\n",
       "  </tbody>\n",
       "</table>\n",
       "</div>"
      ],
      "text/plain": [
       "   sepal_length  sepal_width  petal_length  petal_width species\n",
       "0           5.1          3.5           1.4          0.2  setosa\n",
       "1           4.9          3.0           1.4          0.2  setosa\n",
       "2           4.7          3.2           1.3          0.2  setosa\n",
       "3           4.6          3.1           1.5          0.2  setosa\n",
       "4           5.0          3.6           1.4          0.2  setosa"
      ]
     },
     "execution_count": 41,
     "metadata": {},
     "output_type": "execute_result"
    }
   ],
   "source": [
    "df.head()"
   ]
  },
  {
   "cell_type": "code",
   "execution_count": 45,
   "id": "75b76342-06a2-48db-8558-292065699bdd",
   "metadata": {},
   "outputs": [
    {
     "data": {
      "text/plain": [
       "<Axes: xlabel='sepal_length', ylabel='Count'>"
      ]
     },
     "execution_count": 45,
     "metadata": {},
     "output_type": "execute_result"
    },
    {
     "data": {
      "image/png": "[encoded data removed]",
      "text/plain": [
       "<Figure size 640x480 with 1 Axes>"
      ]
     },
     "metadata": {},
     "output_type": "display_data"
    }
   ],
   "source": [
    "sns.histplot(df['sepal_length'], kde = True)          # Sepal_length"
   ]
  },
  {
   "cell_type": "code",
   "execution_count": 46,
   "id": "ccd50715-0848-4e3d-96b8-c89969cb1305",
   "metadata": {},
   "outputs": [
    {
     "data": {
      "text/plain": [
       "<Axes: xlabel='sepal_width', ylabel='Count'>"
      ]
     },
     "execution_count": 46,
     "metadata": {},
     "output_type": "execute_result"
    },
    {
     "data": {
      "image/png": "[encoded data removed]",
      "text/plain": [
       "<Figure size 640x480 with 1 Axes>"
      ]
     },
     "metadata": {},
     "output_type": "display_data"
    }
   ],
   "source": [
    "sns.histplot(df['sepal_width'], kde = True)          # Sepal Width"
   ]
  },
  {
   "cell_type": "code",
   "execution_count": null,
   "id": "362dafac-64bd-4587-a2f1-d5b6199bf209",
   "metadata": {},
   "outputs": [],
   "source": []
  },
  {
   "cell_type": "code",
   "execution_count": 48,
   "id": "5413374b-9792-4034-91f3-7a98f74e9b87",
   "metadata": {},
   "outputs": [
    {
     "data": {
      "text/plain": [
       "<Axes: xlabel='petal_length', ylabel='Count'>"
      ]
     },
     "execution_count": 48,
     "metadata": {},
     "output_type": "execute_result"
    },
    {
     "data": {
      "image/png": "[encoded data removed]",
      "text/plain": [
       "<Figure size 640x480 with 1 Axes>"
      ]
     },
     "metadata": {},
     "output_type": "display_data"
    }
   ],
   "source": [
    "sns.histplot(df['petal_length'], kde = True)          # Petal length"
   ]
  },
  {
   "cell_type": "code",
   "execution_count": 49,
   "id": "8aff7a35-25cf-49c3-b5d0-a4424992dfb7",
   "metadata": {},
   "outputs": [
    {
     "data": {
      "text/plain": [
       "<Axes: xlabel='petal_width', ylabel='Count'>"
      ]
     },
     "execution_count": 49,
     "metadata": {},
     "output_type": "execute_result"
    },
    {
     "data": {
      "image/png": "[encoded data removed]",
      "text/plain": [
       "<Figure size 640x480 with 1 Axes>"
      ]
     },
     "metadata": {},
     "output_type": "display_data"
    }
   ],
   "source": [
    "sns.histplot(df['petal_width'], kde = True)          # Petal width"
   ]
  },
  {
   "cell_type": "code",
   "execution_count": null,
   "id": "77257895-f562-42d4-a05f-6bffff695494",
   "metadata": {},
   "outputs": [],
   "source": []
  },
  {
   "cell_type": "markdown",
   "id": "a6a65746-f13b-4149-b77d-d33aa0dcd149",
   "metadata": {},
   "source": [
    "## Create a Normal Distribution data"
   ]
  },
  {
   "cell_type": "code",
   "execution_count": 58,
   "id": "789e55a4-26f3-4b20-ace1-0d93bfdc818a",
   "metadata": {},
   "outputs": [],
   "source": [
    "## Create a normal distribution data\n",
    "\n",
    "s = np.random.normal(0.5, 0.2, 1000)                  # 0.5 means Mean\n",
    "                                                       # 0.2 means Standard Deviation\n",
    "                                                       # 1000 means Size"
   ]
  },
  {
   "cell_type": "code",
   "execution_count": 59,
   "id": "eef487f1-39d5-4415-874c-8dc58f3e1c6e",
   "metadata": {},
   "outputs": [
    {
     "data": {
      "text/plain": [
       "array([ 0.60628729,  0.47347504,  0.18824352,  0.97996352,  0.25340601,\n",
       "        0.68430235,  0.60139363,  0.53970447,  0.77378619,  0.38270278,\n",
       "        0.28369024,  0.14312968,  0.41891742,  0.51904123,  0.36176736,\n",
       "        0.64309769,  0.55955872,  0.55861664,  0.3395246 ,  0.42157191,\n",
       "        0.29524027,  0.39311212,  0.31863362,  0.16477959,  0.43937106,\n",
       "        0.45621768,  0.74290635,  0.66502118,  0.41975025,  0.07268162,\n",
       "        0.31284191,  0.39713394,  0.35681648,  0.61335563,  0.35367817,\n",
       "        0.20794765,  0.29377918,  0.2763986 ,  0.35785879,  0.18425938,\n",
       "        0.51599749,  0.14540934,  0.13366488,  0.51996059,  0.25957737,\n",
       "        0.42038356,  0.45658297,  0.25702538,  0.53847179,  0.70219285,\n",
       "        0.48052471,  0.33473635,  0.46333982,  0.65124057,  0.52685628,\n",
       "        0.28188187,  0.26136316,  0.24831028,  0.60389288,  0.6627081 ,\n",
       "        0.48888712,  0.50850472,  0.6836251 ,  0.73181061,  0.49492645,\n",
       "        0.64791495,  0.22864472,  0.65371115,  0.04144063,  0.48540847,\n",
       "        0.75401648,  0.37948027,  0.49112665,  0.67788297,  0.77121292,\n",
       "        0.66957411,  0.41886369,  0.58298874,  0.56885538,  0.29364119,\n",
       "        0.3474822 ,  0.52807137,  0.49351805,  0.26236037,  0.28400374,\n",
       "        0.5533244 ,  0.16990437,  0.23470098,  0.42734221,  0.48583793,\n",
       "        0.38420744,  0.43752695,  0.27700485,  0.56918256,  0.52525558,\n",
       "        0.49352063,  0.48226743,  0.68194357,  0.89827033,  0.55813676,\n",
       "        0.34316076,  0.29602321,  0.34353025,  0.61696222,  0.35414221,\n",
       "        0.17397623,  0.30921924,  0.41717674,  0.72605485,  0.13275802,\n",
       "        0.47074657,  0.29372735,  0.60883721,  0.51026156,  0.72450364,\n",
       "        0.53005634,  0.26523068,  0.44223681,  0.56275431,  0.09916161,\n",
       "        0.79287255,  0.53406466,  0.41887278,  0.11743724,  0.52913785,\n",
       "        0.56764879,  0.459354  ,  0.54878467,  0.21198223,  0.33688863,\n",
       "        0.66264207,  0.62412507,  0.55231658,  0.67727549,  0.6704737 ,\n",
       "        0.34094933,  0.32415243,  0.75764152,  0.58878297,  0.72857733,\n",
       "        0.73305766,  0.46570003,  0.3966322 ,  0.16561075,  0.67395474,\n",
       "        0.48420487,  0.44342925,  0.18874221,  0.45239133,  0.54591307,\n",
       "        0.17426389,  0.68315556,  0.34465998,  0.72556473,  0.38779579,\n",
       "        0.81260356,  0.86361478,  0.70713154,  0.95477243,  0.65585182,\n",
       "        0.72102725,  0.69127499,  0.34248095,  0.66715536,  0.53644286,\n",
       "        0.43356133,  0.48900747,  0.60417993,  0.74963769,  0.25398781,\n",
       "        0.55468361,  0.66211945,  0.54113755,  0.63943836,  0.26130766,\n",
       "        0.80778998,  0.60254367,  0.36588679,  0.46375981,  0.56499734,\n",
       "        0.60275013,  0.32831381,  0.35805066,  0.48011002,  0.20420242,\n",
       "        0.44697884,  0.08756519,  0.23292309,  0.58933819,  0.46139466,\n",
       "        0.81859085,  0.4842758 ,  0.22242643,  0.51530604,  0.63191192,\n",
       "        0.88315586,  0.87031438,  0.73493485,  0.60617149,  0.33297794,\n",
       "        0.25263351,  0.4037765 ,  0.73569074,  0.45050335,  0.52740913,\n",
       "        0.93996511,  0.45394531,  0.48097148,  0.6094678 ,  0.48701485,\n",
       "        0.61185012,  0.54107706,  0.55579859,  0.35795227,  0.42237981,\n",
       "        0.68918414,  0.28766951,  0.62638542,  0.25449673,  0.76489556,\n",
       "        0.34922493,  0.01030075,  0.88989474,  0.35594562,  0.49916685,\n",
       "        0.14588342,  0.29582219,  0.7842886 ,  0.57534697,  0.30004849,\n",
       "        0.25532966,  0.42085634,  0.03623944,  0.83355812,  0.1310912 ,\n",
       "        0.19291627,  0.53304427,  0.32542153,  0.27500045,  0.59991197,\n",
       "        0.21033839,  0.49462978,  0.4120467 ,  0.24666016,  0.8835686 ,\n",
       "        0.41522106,  0.58332778,  0.52950915,  0.47378743,  0.69660842,\n",
       "        0.82259457,  0.46066239,  0.65915584,  0.5395106 ,  0.59000052,\n",
       "        0.65779677,  0.65445895,  0.53689112,  0.4377903 ,  0.87618638,\n",
       "        0.28684868,  0.7429121 ,  0.54400998,  0.14391124,  0.09321764,\n",
       "        0.76450052,  0.56347308,  0.65621906,  0.27576618,  0.13200343,\n",
       "        0.64315325,  0.46086391,  0.46864964,  0.34552981,  0.41090527,\n",
       "        0.53096847,  0.91594875,  0.68162758,  0.58239708,  0.27414146,\n",
       "        0.96232229,  0.5582926 ,  0.60258101,  0.42973987,  0.87169096,\n",
       "        0.58381215,  0.3972796 ,  0.80890375,  0.41343101,  0.63852417,\n",
       "        0.35678426,  0.79715733,  0.78987978,  0.65784451,  0.26546432,\n",
       "        0.94220846,  0.43139358,  0.45892304,  0.39848513,  0.51356217,\n",
       "        0.66734143,  0.4828209 ,  0.80319207,  0.52821551,  0.56695322,\n",
       "        0.36031642,  0.58189463,  0.51552291,  0.35642195,  0.47210293,\n",
       "        0.77842898,  0.40096789,  0.66303979,  0.28339073,  1.00507964,\n",
       "        0.34631871,  0.42919658,  0.549165  ,  0.3349968 ,  0.31918065,\n",
       "        0.57456607,  0.31779422, -0.06769157,  0.55789868,  0.25596186,\n",
       "        0.54088589,  0.4165808 ,  0.68282315,  0.37353222,  0.51600441,\n",
       "        0.23524971,  0.70947057,  0.91475452,  0.41252705,  0.15604927,\n",
       "        0.5277981 ,  0.52790237,  0.42283567,  0.40764751,  0.50756435,\n",
       "        0.58061494,  0.40674617,  0.89240465,  0.6051316 ,  0.29266948,\n",
       "        0.64178886,  0.53643314,  0.80984219,  0.41088098,  0.42644929,\n",
       "        0.3031895 ,  0.58654818,  0.58502731,  0.80162295,  0.44506958,\n",
       "        0.41544783,  0.33098073,  0.4003144 ,  0.56097598,  0.35423158,\n",
       "        0.3881136 ,  0.40417481,  0.82694436,  0.6876655 ,  0.63437724,\n",
       "        0.44517461,  0.27587253,  0.51223552,  0.41217632,  0.48026194,\n",
       "        0.36198257,  0.74953317,  0.30060144,  0.36749126,  0.15843854,\n",
       "        0.4200121 ,  0.49008007,  0.78801456,  0.44691956,  0.64238265,\n",
       "        0.61890963,  0.28849865,  0.56030108,  0.53038794,  0.220596  ,\n",
       "        0.72060062,  0.14083353,  0.59456324,  0.39663275,  0.59011252,\n",
       "        0.56120539,  0.87741498,  0.50088707,  0.55054311,  0.47196715,\n",
       "        0.71723985,  0.40789234,  0.51689167,  0.86309609,  0.48880043,\n",
       "        0.51775921,  0.84442968,  0.40093105,  0.68918403,  0.78998279,\n",
       "        0.68950484,  0.42975673,  0.64939465,  0.16329043,  0.55937832,\n",
       "        0.4033287 ,  0.17764307,  0.76454249,  0.3022741 ,  0.83677436,\n",
       "        0.26926838,  0.52273117,  0.6900427 ,  0.42184562,  0.71196544,\n",
       "        0.29937352,  0.53243988,  0.36044231,  0.54129138,  0.6422829 ,\n",
       "        0.28898534,  0.25625665,  0.72520393,  0.7160316 ,  0.22865299,\n",
       "        0.67136603,  0.47613408,  0.85774506,  0.42133134,  0.41699095,\n",
       "        0.54416675,  0.20385077,  0.48722098,  0.59506902,  0.66648494,\n",
       "        0.59916178,  0.33785369,  0.21356685,  0.6506455 ,  0.7123857 ,\n",
       "        0.56056048,  0.4069428 ,  0.60352456,  0.15550248,  0.4798058 ,\n",
       "        0.56773971,  0.06514447,  0.61004385,  0.23685742,  0.37678053,\n",
       "        0.45706861,  0.70521362,  0.44609216,  0.35026711,  0.60163276,\n",
       "        0.59690032,  0.46539271,  0.62163025,  0.2847779 ,  0.49331988,\n",
       "        0.26434543,  0.22593385,  0.52061278,  0.57072924,  0.36897103,\n",
       "        0.48615397,  0.86291878,  0.70697273,  0.77766056,  0.70548814,\n",
       "        0.70604863,  0.49612635,  0.50697628,  0.56408446,  0.46092991,\n",
       "        0.23013919,  0.61016291,  0.71708905,  0.95740887,  0.35845446,\n",
       "        0.4418892 ,  0.15786405,  0.95113456,  0.52340926,  0.22119815,\n",
       "        0.19495698,  0.58302795,  0.24341424,  0.31644247,  0.49982019,\n",
       "        1.04759669,  0.32470899,  0.73527115,  0.46461591,  0.44269363,\n",
       "        0.83108994,  0.26985188,  0.55357247,  0.65485387,  0.73591373,\n",
       "        0.44084822,  0.29822224,  0.5039542 ,  0.22833065,  0.2911736 ,\n",
       "        0.43601974,  0.26636846,  0.21600435,  0.30233434,  0.45637101,\n",
       "        0.55082875,  0.30730922,  0.39955867,  0.65315055,  0.83713156,\n",
       "        0.4854918 ,  0.57345427,  0.49310164,  0.5422671 ,  0.55129119,\n",
       "        0.59905451,  0.61339577,  0.44685516,  0.6489411 ,  0.27577229,\n",
       "        0.45092661,  0.51494991,  0.24242459,  0.02560299,  0.0721784 ,\n",
       "        0.48623453,  0.42844378,  0.34489836,  0.47045485,  0.54812228,\n",
       "        0.52538478,  0.62202399,  0.60149959,  0.83487629,  0.74746335,\n",
       "        0.27294173,  0.48495504,  0.49123797,  0.2928684 ,  0.4256737 ,\n",
       "        0.8394626 ,  0.65844756,  0.12809461,  0.59893292,  0.72155341,\n",
       "        0.28956234,  0.33518548,  0.62768984,  0.49931876,  0.4596156 ,\n",
       "        0.82371508,  0.50452186,  0.24358683,  0.35008261,  0.32138739,\n",
       "        0.58486612,  0.53008217,  0.64167261,  0.89818214,  0.24556155,\n",
       "        0.5272156 ,  0.60460962,  0.57126652,  0.46838745,  0.69506426,\n",
       "        0.78107827,  0.36571372,  0.22733712,  0.64017689,  0.57291323,\n",
       "        0.32497039,  0.64263704,  0.38464849,  0.58374027,  0.462245  ,\n",
       "        0.84514   ,  0.72129028,  0.24828231,  0.39303438,  0.49727318,\n",
       "       -0.24532708,  0.56198697,  0.64434169,  0.63388984,  0.7162257 ,\n",
       "        0.49245935,  0.36989704,  0.48271674,  0.57048419,  0.39253579,\n",
       "        0.54263297,  0.18491466,  0.35204934,  0.4558411 ,  0.58374547,\n",
       "        0.6024444 ,  0.49373465,  0.68679197,  0.30416972,  0.26565173,\n",
       "        0.72948957,  0.4045175 ,  0.71936775,  0.21079022,  0.28084415,\n",
       "        0.66429428,  0.57571128,  0.56991544,  0.43126591,  0.62651545,\n",
       "        0.41532499,  0.41357029,  0.42354531,  0.39912058,  0.41748146,\n",
       "        0.41286746,  0.2079614 ,  0.5898496 ,  0.66018896,  0.31124652,\n",
       "        0.25631745,  0.2785703 ,  0.45087352,  0.33433991,  0.57000996,\n",
       "        0.5581966 ,  0.39788427,  0.44154993,  0.24588434,  0.35784059,\n",
       "        0.65085163,  0.4239671 ,  0.00877051,  0.59749784,  0.47344375,\n",
       "        0.3564814 ,  0.41995272,  0.80085595,  1.02478516,  0.49721101,\n",
       "        0.355812  ,  0.53477636,  0.55861167,  0.46160416,  0.62725336,\n",
       "        0.39173573,  0.47114245,  0.36529059,  0.44806966,  0.44667521,\n",
       "        0.31391361,  0.44638263,  0.63406529,  0.28712211,  0.32661798,\n",
       "        0.45471791,  0.58154121,  0.6322216 ,  0.66364603,  0.08145294,\n",
       "        0.58168648,  0.40322312,  0.47602408,  0.61948838,  0.21203459,\n",
       "        0.70507229,  0.24326129,  0.45955964,  0.46909242,  0.72557825,\n",
       "        0.30507407,  0.72819204,  0.50601735,  0.57171858,  0.35753502,\n",
       "        0.53229967,  0.63908022,  0.60096969,  0.02808256,  0.81440068,\n",
       "        0.63952465,  0.3944063 ,  0.57507295,  0.54403317,  0.58995422,\n",
       "        0.43722703,  0.30651871,  0.32000104,  0.83353252,  0.46758833,\n",
       "        0.85411794, -0.25972653,  0.44340408,  0.43305541,  0.53188336,\n",
       "        0.67769745,  0.97624729,  0.33552057,  0.42248944,  0.49104077,\n",
       "        0.23784286,  0.71127237,  0.54128304,  0.64624226,  0.42916443,\n",
       "        0.60868289,  0.72900616,  0.44118518,  0.07794796,  0.45190743,\n",
       "        0.38047223,  0.60500624,  0.06779031,  0.65253173,  0.08552181,\n",
       "        0.30746682,  0.73528978,  0.22632612,  0.52185277,  0.43938452,\n",
       "        0.3086921 ,  0.63965145,  0.5593513 ,  0.70024874,  0.42140123,\n",
       "        0.76776919,  0.35293005,  0.16699491,  0.26743981,  0.49210534,\n",
       "        0.63133977,  0.15416218,  0.75501486,  0.85359876,  0.47847016,\n",
       "        0.49799757,  0.58720454,  0.63590077,  0.37328625,  0.42816149,\n",
       "        0.6793092 ,  0.17454043,  0.73889075,  0.41476742,  0.24894655,\n",
       "        0.34942199,  0.58190327,  0.11595438, -0.12246337,  0.35789813,\n",
       "        0.63796767,  0.43806303,  0.43353482,  0.81159569,  0.62844158,\n",
       "        0.36729775,  0.19022429,  0.76762984,  0.34705429,  0.79694739,\n",
       "        0.45578894,  0.50398987,  0.79814206,  0.41516837,  0.94411586,\n",
       "        0.44628893,  0.31589601,  0.79524421,  0.44206456,  0.23439737,\n",
       "        0.6029948 ,  0.28154578,  0.48678109,  0.32313071,  0.67705744,\n",
       "        0.68154229,  0.26283327,  0.18354213,  0.17721396,  0.59955438,\n",
       "        0.58958041,  0.66519349,  0.63050712,  0.60687718,  0.38263731,\n",
       "        0.36783535,  0.5935551 ,  0.56183208,  0.67102161,  0.55090375,\n",
       "        0.43522176,  0.34089796,  0.4942509 ,  0.76995758,  0.42219803,\n",
       "        0.47867094,  0.77155909,  0.68061475,  0.34473666,  0.29032165,\n",
       "        0.9669351 ,  0.28216041,  0.440573  ,  0.41325365,  0.66453953,\n",
       "        0.1243101 ,  0.77775563,  0.44545512,  0.46879611,  0.41699915,\n",
       "        0.60928826,  0.45225777,  0.22011054,  0.49171876,  0.66860134,\n",
       "        0.31720144,  0.16607859,  0.51476623,  0.49027786,  0.32048061,\n",
       "        0.49930889,  0.10633955,  0.45936565,  0.65179081,  0.65460216,\n",
       "        0.68640515,  0.55034534,  0.44962001,  0.56154279,  0.1884612 ,\n",
       "        1.11748929,  0.66839667,  0.34909033,  0.64925486,  0.46222751,\n",
       "        0.52862829,  0.26290588,  0.63207556,  0.62745529,  0.40558698,\n",
       "        0.64747932,  0.38911829,  0.32990217,  0.62164669,  0.68180803,\n",
       "        0.32123922,  0.00598271,  0.37824037,  0.51068431,  0.28146245,\n",
       "        0.30083754,  0.35098225,  0.88291762,  0.49743539,  0.14364798,\n",
       "        0.51926834,  0.44024861,  0.71951517,  0.72187251,  0.60968857,\n",
       "        0.4426759 ,  0.25476012,  0.43367895,  0.70001114,  0.44476336,\n",
       "        0.40789667,  0.20114942,  0.67445682,  0.40157932,  0.62841529,\n",
       "        1.02891292,  0.4898939 ,  0.71814583,  0.62725126,  0.44594801,\n",
       "        0.82636807,  0.78392857,  0.41191658,  0.92428262,  0.66035679,\n",
       "        0.60617963,  0.8306753 ,  0.23119869,  0.31670288,  0.42381411,\n",
       "        0.39230825,  0.75335194,  0.71653463,  0.66991098,  0.55069007,\n",
       "        0.31005218,  0.50425316,  0.53114516,  0.3244299 ,  0.4824892 ,\n",
       "        0.57124293,  0.83561619,  0.77094975,  0.50376755,  0.78509835,\n",
       "        0.55768626,  0.30235735,  0.65900437,  0.31636798,  0.80572011,\n",
       "        0.43995401,  0.20613976,  0.28382899,  0.23057415,  0.4592771 ,\n",
       "        0.69530696,  0.41194886,  0.6295179 ,  0.3906549 ,  0.56289366,\n",
       "        0.24232706,  0.58425589,  0.92918585,  0.57833712,  0.32118532,\n",
       "        0.3179529 ,  0.76842992,  0.27478572,  0.39741901,  0.65861455,\n",
       "        0.48749006,  0.32249215,  0.37287513,  0.51229521,  0.5273167 ,\n",
       "        0.50612554,  0.55206666,  0.41895816,  0.72319611,  0.4909565 ,\n",
       "        0.86577123,  0.47469626,  0.36351241,  0.46813069,  0.51838921,\n",
       "        0.63762576,  0.4137831 ,  0.38691756,  0.52026288,  0.71082584,\n",
       "        0.58030242,  0.15417692,  0.6308276 ,  0.32481659,  0.48976338,\n",
       "        0.37393137,  0.79186217,  0.52003009,  0.49447175,  1.01476888,\n",
       "        0.4387453 ,  0.29914174,  0.13349417,  0.96072709,  0.51357946,\n",
       "        0.18237785,  0.51515198,  0.30304171,  0.74285498,  0.37570942,\n",
       "        0.36618626,  0.56589973,  0.3639443 ,  0.52485771,  0.69923472,\n",
       "        0.23082912,  0.47954769,  0.83268582,  0.33917007,  0.60259299,\n",
       "        0.51990733,  0.57751198,  0.57390057,  0.68568369,  0.1454653 ,\n",
       "        0.48114541,  0.45039679,  0.41401579,  0.66030112,  0.61834372,\n",
       "        0.73751017,  0.43365774,  0.72220079,  0.54751893,  0.6497062 ])"
      ]
     },
     "execution_count": 59,
     "metadata": {},
     "output_type": "execute_result"
    }
   ],
   "source": [
    "s"
   ]
  },
  {
   "cell_type": "code",
   "execution_count": 60,
   "id": "131eff3d-64ed-4a99-b4a2-af445526a3d4",
   "metadata": {},
   "outputs": [
    {
     "data": {
      "text/plain": [
       "<Axes: ylabel='Count'>"
      ]
     },
     "execution_count": 60,
     "metadata": {},
     "output_type": "execute_result"
    },
    {
     "data": {
      "image/png": "[encoded data removed]",
      "text/plain": [
       "<Figure size 640x480 with 1 Axes>"
      ]
     },
     "metadata": {},
     "output_type": "display_data"
    }
   ],
   "source": [
    "sns.histplot(s, kde = True)"
   ]
  },
  {
   "cell_type": "code",
   "execution_count": null,
   "id": "9d6524cc-d7eb-432b-bd6b-6271cf94d570",
   "metadata": {},
   "outputs": [],
   "source": []
  },
  {
   "cell_type": "markdown",
   "id": "b7ee5ef2-8da7-4a43-98e8-c07d0901d260",
   "metadata": {},
   "source": [
    "## Other Distribution \n",
    "\n",
    "## Log Normal Distribution, Power Law Distribution"
   ]
  },
  {
   "cell_type": "code",
   "execution_count": 65,
   "id": "334ddca8-6645-480e-a062-1162a0be43e3",
   "metadata": {},
   "outputs": [],
   "source": [
    "## Mean and Standard Deviation\n",
    "\n",
    "mu, sigma = 3. , 1.\n",
    "s = np.random.lognormal(mu, sigma, 1000)"
   ]
  },
  {
   "cell_type": "code",
   "execution_count": 66,
   "id": "b938704b-3ccf-4e6f-afe2-e4c5ad8a895d",
   "metadata": {},
   "outputs": [
    {
     "data": {
      "text/plain": [
       "<Axes: ylabel='Count'>"
      ]
     },
     "execution_count": 66,
     "metadata": {},
     "output_type": "execute_result"
    },
    {
     "data": {
      "image/png": "[encoded data removed]",
      "text/plain": [
       "<Figure size 640x480 with 1 Axes>"
      ]
     },
     "metadata": {},
     "output_type": "display_data"
    }
   ],
   "source": [
    "sns.histplot(s, kde = True)"
   ]
  },
  {
   "cell_type": "code",
   "execution_count": 67,
   "id": "b62b2142-1a24-4ee3-8fdf-89499c2f6a98",
   "metadata": {},
   "outputs": [
    {
     "data": {
      "text/plain": [
       "<Axes: ylabel='Count'>"
      ]
     },
     "execution_count": 67,
     "metadata": {},
     "output_type": "execute_result"
    },
    {
     "data": {
      "image/png": "[encoded data removed]",
      "text/plain": [
       "<Figure size 640x480 with 1 Axes>"
      ]
     },
     "metadata": {},
     "output_type": "display_data"
    }
   ],
   "source": [
    "sns.histplot(np.log(s), kde = True)"
   ]
  },
  {
   "cell_type": "code",
   "execution_count": null,
   "id": "e486f231-5f49-4acf-a877-032d819a7233",
   "metadata": {},
   "outputs": [],
   "source": []
  }
 ],
 "metadata": {
  "kernelspec": {
   "display_name": "Python 3 (ipykernel)",
   "language": "python",
   "name": "python3"
  },
  "language_info": {
   "codemirror_mode": {
    "name": "ipython",
    "version": 3
   },
   "file_extension": ".py",
   "mimetype": "text/x-python",
   "name": "python",
   "nbconvert_exporter": "python",
   "pygments_lexer": "ipython3",
   "version": "3.11.4"
  }
 },
 "nbformat": 4,
 "nbformat_minor": 5
}
