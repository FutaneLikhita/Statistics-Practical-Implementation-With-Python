{
 "cells": [
  {
   "cell_type": "markdown",
   "id": "aea8442d-c3fd-4fad-92fd-9dc977f64e0c",
   "metadata": {},
   "source": [
    "# Statistics Practical Implementation "
   ]
  },
  {
   "cell_type": "markdown",
   "id": "793e1951-e102-4f5f-8a57-436d3c9427ab",
   "metadata": {},
   "source": [
    "## Measure Of Central Tendency"
   ]
  },
  {
   "cell_type": "markdown",
   "id": "d04b8bcb-c595-4cef-95ca-cd7f8a976731",
   "metadata": {},
   "source": [
    "### 1. Mean\n",
    "### 2. Median\n",
    "### 3. Mode"
   ]
  },
  {
   "cell_type": "code",
   "execution_count": null,
   "id": "e3d4c701-345f-4fbb-9ffd-a5b283c94c7d",
   "metadata": {},
   "outputs": [],
   "source": []
  },
  {
   "cell_type": "markdown",
   "id": "69b245e0-e6ce-46a6-9f65-9c8c09db61e4",
   "metadata": {},
   "source": [
    "### Mean and Median Using Numpy"
   ]
  },
  {
   "cell_type": "code",
   "execution_count": 5,
   "id": "35ba979c-a091-48d3-949e-2daca2960dd4",
   "metadata": {},
   "outputs": [],
   "source": [
    "import numpy as np "
   ]
  },
  {
   "cell_type": "code",
   "execution_count": 6,
   "id": "c870fe73-56bb-4721-8161-1591e7074448",
   "metadata": {},
   "outputs": [
    {
     "name": "stdout",
     "output_type": "stream",
     "text": [
      "37.36363636363637\n",
      "32.0\n"
     ]
    }
   ],
   "source": [
    "ages = [23, 24, 32, 45, 12, 43, 67, 45, 32, 56, 32] \n",
    "\n",
    "# Printing mean \n",
    "print(np.mean(ages))          \n",
    "\n",
    "# Printing median\n",
    "print(np.median(ages)) \n"
   ]
  },
  {
   "cell_type": "code",
   "execution_count": null,
   "id": "cb535180-5299-46e8-8ed6-adb8dde7ae50",
   "metadata": {},
   "outputs": [],
   "source": []
  },
  {
   "cell_type": "code",
   "execution_count": 7,
   "id": "6c87ce71-8e77-4a0a-b2a6-f02db892e96c",
   "metadata": {},
   "outputs": [
    {
     "name": "stdout",
     "output_type": "stream",
     "text": [
      "46.75\n",
      "37.5\n"
     ]
    }
   ],
   "source": [
    "# Outlier\n",
    "\n",
    "ages = [23, 24, 32, 45, 12, 43, 67, 45, 32, 56, 32, 150]            # Outlier is 150\n",
    "\n",
    "# Printing mean \n",
    "print(np.mean(ages))           # Outlier ki vajah se mean par affect hota hai.\n",
    "\n",
    "# Printing median\n",
    "print(np.median(ages))         # But median par nhi.\n"
   ]
  },
  {
   "cell_type": "code",
   "execution_count": null,
   "id": "088a4482-1182-4b0c-b1e3-28a614447b9c",
   "metadata": {},
   "outputs": [],
   "source": []
  },
  {
   "cell_type": "markdown",
   "id": "f9030f20-37c5-4da3-85ed-45e9922856ba",
   "metadata": {},
   "source": [
    "### Mean and Median Using Statistics "
   ]
  },
  {
   "cell_type": "code",
   "execution_count": 8,
   "id": "834fd344-dd80-47f0-8be7-60beab774a35",
   "metadata": {},
   "outputs": [],
   "source": [
    "import statistics"
   ]
  },
  {
   "cell_type": "code",
   "execution_count": 9,
   "id": "96e427ed-70d8-4052-8199-b64471a9ce9d",
   "metadata": {},
   "outputs": [
    {
     "name": "stdout",
     "output_type": "stream",
     "text": [
      "46.75\n",
      "37.5\n"
     ]
    }
   ],
   "source": [
    "# Printing mean by statistics\n",
    "print(statistics.mean(ages))\n",
    "\n",
    "# Printing median by statistics        \n",
    "print(statistics.median(ages))            # Ye dono bhi same hi hai upar ke jaise.\n",
    "                                          # Bhot sare Outliers hai to missing values ko replace karne ke liye Median use hota hai."
   ]
  },
  {
   "cell_type": "code",
   "execution_count": null,
   "id": "69700fab-fe36-4841-9c0d-784afbed4152",
   "metadata": {},
   "outputs": [],
   "source": []
  },
  {
   "cell_type": "markdown",
   "id": "2a65d502-59da-455d-b859-4e7cffe393a4",
   "metadata": {},
   "source": [
    "### Mode Using Statistics "
   ]
  },
  {
   "cell_type": "code",
   "execution_count": 10,
   "id": "eb08801b-1ec4-4cf6-89d8-a823495c7c7f",
   "metadata": {},
   "outputs": [
    {
     "name": "stdout",
     "output_type": "stream",
     "text": [
      "32\n"
     ]
    }
   ],
   "source": [
    "# Printing mode \n",
    "print(statistics.mode(ages))      # categorical variable nikalna hoga to ye use karte hai."
   ]
  },
  {
   "cell_type": "code",
   "execution_count": null,
   "id": "3ea445f5-28de-4ea5-9148-7f9c45a9619c",
   "metadata": {},
   "outputs": [],
   "source": []
  },
  {
   "cell_type": "markdown",
   "id": "7a3e6258-fae9-4120-b8af-50f8a67ad240",
   "metadata": {},
   "source": [
    "### Find Outliers \n",
    "### Removing Outliers"
   ]
  },
  {
   "cell_type": "code",
   "execution_count": 11,
   "id": "4ebedaf0-73cd-43b5-8f2e-6776623c65c8",
   "metadata": {},
   "outputs": [
    {
     "data": {
      "text/plain": [
       "<Axes: >"
      ]
     },
     "execution_count": 11,
     "metadata": {},
     "output_type": "execute_result"
    },
    {
     "data": {
      "image/png": "[encoded data removed]",
      "text/plain": [
       "<Figure size 640x480 with 1 Axes>"
      ]
     },
     "metadata": {},
     "output_type": "display_data"
    }
   ],
   "source": [
    "import seaborn as sns \n",
    "\n",
    "sns.boxplot(ages)"
   ]
  },
  {
   "cell_type": "code",
   "execution_count": null,
   "id": "b2b47377-de34-40b8-bb18-cda7af4cceac",
   "metadata": {},
   "outputs": [],
   "source": []
  },
  {
   "cell_type": "code",
   "execution_count": null,
   "id": "64187544-6851-4d3b-8993-108c947a97bb",
   "metadata": {},
   "outputs": [],
   "source": []
  }
 ],
 "metadata": {
  "kernelspec": {
   "display_name": "Python 3 (ipykernel)",
   "language": "python",
   "name": "python3"
  },
  "language_info": {
   "codemirror_mode": {
    "name": "ipython",
    "version": 3
   },
   "file_extension": ".py",
   "mimetype": "text/x-python",
   "name": "python",
   "nbconvert_exporter": "python",
   "pygments_lexer": "ipython3",
   "version": "3.11.4"
  }
 },
 "nbformat": 4,
 "nbformat_minor": 5
}
