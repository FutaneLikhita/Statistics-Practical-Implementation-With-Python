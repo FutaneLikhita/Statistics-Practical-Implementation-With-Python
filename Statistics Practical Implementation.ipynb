{
 "cells": [
  {
   "cell_type": "markdown",
   "id": "aea8442d-c3fd-4fad-92fd-9dc977f64e0c",
   "metadata": {},
   "source": [
    "# Statistics Practical Implementation "
   ]
  },
  {
   "cell_type": "markdown",
   "id": "793e1951-e102-4f5f-8a57-436d3c9427ab",
   "metadata": {},
   "source": [
    "## Measure Of Central Tendency"
   ]
  },
  {
   "cell_type": "markdown",
   "id": "d04b8bcb-c595-4cef-95ca-cd7f8a976731",
   "metadata": {},
   "source": [
    "### 1. Mean\n",
    "### 2. Median\n",
    "### 3. Mode"
   ]
  },
  {
   "cell_type": "code",
   "execution_count": null,
   "id": "e3d4c701-345f-4fbb-9ffd-a5b283c94c7d",
   "metadata": {},
   "outputs": [],
   "source": []
  },
  {
   "cell_type": "markdown",
   "id": "69b245e0-e6ce-46a6-9f65-9c8c09db61e4",
   "metadata": {},
   "source": [
    "### Mean and Median Using Numpy"
   ]
  },
  {
   "cell_type": "code",
   "execution_count": 1,
   "id": "35ba979c-a091-48d3-949e-2daca2960dd4",
   "metadata": {},
   "outputs": [],
   "source": [
    "import numpy as np "
   ]
  },
  {
   "cell_type": "code",
   "execution_count": 2,
   "id": "c870fe73-56bb-4721-8161-1591e7074448",
   "metadata": {},
   "outputs": [
    {
     "name": "stdout",
     "output_type": "stream",
     "text": [
      "37.36363636363637\n",
      "32.0\n"
     ]
    }
   ],
   "source": [
    "ages = [23, 24, 32, 45, 12, 43, 67, 45, 32, 56, 32] \n",
    "\n",
    "# Printing mean \n",
    "print(np.mean(ages))          \n",
    "\n",
    "# Printing median\n",
    "print(np.median(ages)) \n"
   ]
  },
  {
   "cell_type": "code",
   "execution_count": null,
   "id": "cb535180-5299-46e8-8ed6-adb8dde7ae50",
   "metadata": {},
   "outputs": [],
   "source": []
  },
  {
   "cell_type": "code",
   "execution_count": 3,
   "id": "fdea0497-5c56-4374-b2a3-20f266258235",
   "metadata": {},
   "outputs": [],
   "source": [
    "# "
   ]
  },
  {
   "cell_type": "code",
   "execution_count": 4,
   "id": "6c87ce71-8e77-4a0a-b2a6-f02db892e96c",
   "metadata": {},
   "outputs": [
    {
     "name": "stdout",
     "output_type": "stream",
     "text": [
      "46.75\n",
      "37.5\n"
     ]
    }
   ],
   "source": [
    "# Outlier\n",
    "\n",
    "ages = [23, 24, 32, 45, 12, 43, 67, 45, 32, 56, 32, 150]            # Outlier is 150\n",
    "\n",
    "# Printing mean \n",
    "print(np.mean(ages))           # Outlier ki vajah se mean par affect hota hai.\n",
    "\n",
    "# Printing median\n",
    "print(np.median(ages))         # But median par nhi.\n"
   ]
  },
  {
   "cell_type": "code",
   "execution_count": null,
   "id": "088a4482-1182-4b0c-b1e3-28a614447b9c",
   "metadata": {},
   "outputs": [],
   "source": []
  },
  {
   "cell_type": "markdown",
   "id": "f9030f20-37c5-4da3-85ed-45e9922856ba",
   "metadata": {},
   "source": [
    "### Mean and Median Using Statistics "
   ]
  },
  {
   "cell_type": "code",
   "execution_count": 5,
   "id": "834fd344-dd80-47f0-8be7-60beab774a35",
   "metadata": {},
   "outputs": [],
   "source": [
    "import statistics"
   ]
  },
  {
   "cell_type": "code",
   "execution_count": 6,
   "id": "96e427ed-70d8-4052-8199-b64471a9ce9d",
   "metadata": {},
   "outputs": [
    {
     "name": "stdout",
     "output_type": "stream",
     "text": [
      "46.75\n",
      "37.5\n"
     ]
    }
   ],
   "source": [
    "# Printing mean by statistics\n",
    "print(statistics.mean(ages))\n",
    "\n",
    "# Printing median by statistics        \n",
    "print(statistics.median(ages))            # Ye dono bhi same hi hai upar ke jaise.\n",
    "                                          # Bhot sare Outliers hai to missing values ko replace karne ke liye Median use hota hai."
   ]
  },
  {
   "cell_type": "code",
   "execution_count": null,
   "id": "69700fab-fe36-4841-9c0d-784afbed4152",
   "metadata": {},
   "outputs": [],
   "source": []
  },
  {
   "cell_type": "markdown",
   "id": "2a65d502-59da-455d-b859-4e7cffe393a4",
   "metadata": {},
   "source": [
    "### Mode Using Statistics "
   ]
  },
  {
   "cell_type": "code",
   "execution_count": 7,
   "id": "eb08801b-1ec4-4cf6-89d8-a823495c7c7f",
   "metadata": {},
   "outputs": [
    {
     "name": "stdout",
     "output_type": "stream",
     "text": [
      "32\n"
     ]
    }
   ],
   "source": [
    "# Printing mode \n",
    "print(statistics.mode(ages))      # categorical variable nikalna hoga to ye use karte hai."
   ]
  },
  {
   "cell_type": "code",
   "execution_count": null,
   "id": "3ea445f5-28de-4ea5-9148-7f9c45a9619c",
   "metadata": {},
   "outputs": [],
   "source": []
  },
  {
   "cell_type": "markdown",
   "id": "7a3e6258-fae9-4120-b8af-50f8a67ad240",
   "metadata": {},
   "source": [
    "### Find Outliers \n",
    "### Removing Outliers"
   ]
  },
  {
   "cell_type": "code",
   "execution_count": 8,
   "id": "4ebedaf0-73cd-43b5-8f2e-6776623c65c8",
   "metadata": {},
   "outputs": [
    {
     "data": {
      "text/plain": [
       "<Axes: >"
      ]
     },
     "execution_count": 8,
     "metadata": {},
     "output_type": "execute_result"
    },
    {
     "data": {
      "image/png": "[encoded data removed]",
      "text/plain": [
       "<Figure size 640x480 with 1 Axes>"
      ]
     },
     "metadata": {},
     "output_type": "display_data"
    }
   ],
   "source": [
    "import seaborn as sns \n",
    "\n",
    "sns.boxplot(x = ages)"
   ]
  },
  {
   "cell_type": "code",
   "execution_count": null,
   "id": "b2b47377-de34-40b8-bb18-cda7af4cceac",
   "metadata": {},
   "outputs": [],
   "source": []
  },
  {
   "cell_type": "markdown",
   "id": "b914d89a-fd80-4f95-9936-87ca5500c478",
   "metadata": {},
   "source": [
    "## Number Summery"
   ]
  },
  {
   "cell_type": "code",
   "execution_count": 9,
   "id": "ae6c54cd-e5e9-4868-89e0-028463ed7b6f",
   "metadata": {},
   "outputs": [
    {
     "name": "stdout",
     "output_type": "stream",
     "text": [
      "q1 : 30.0\n",
      "q3 : 47.75\n"
     ]
    }
   ],
   "source": [
    "import numpy as np\n",
    "\n",
    "q1,q3 = np.percentile(ages, [25, 75])\n",
    "\n",
    "print(\"q1 :\",  q1,)\n",
    "print(\"q3 :\",  q3,)"
   ]
  },
  {
   "cell_type": "code",
   "execution_count": null,
   "id": "5d6f86c5-78ae-4579-af5d-512014f76586",
   "metadata": {},
   "outputs": [],
   "source": []
  },
  {
   "cell_type": "markdown",
   "id": "b104ab1b-9fbf-4f41-a643-dbbc7453a05e",
   "metadata": {},
   "source": [
    "### To Check Outlier (Lower fence - Higher fence)"
   ]
  },
  {
   "cell_type": "code",
   "execution_count": 10,
   "id": "0d89748f-cb3d-49f7-bd0b-954305e97a3a",
   "metadata": {},
   "outputs": [
    {
     "name": "stdout",
     "output_type": "stream",
     "text": [
      "lower_fence : 3.375\n",
      "higher_fence : 74.375\n"
     ]
    }
   ],
   "source": [
    "IQR = q3 - q1\n",
    "\n",
    "# Creating lower_fence\n",
    "lower_fence = q1 - 1.5 *(IQR)\n",
    "\n",
    "# Creating Higher-fence\n",
    "higher_fence = q3 + 1.5 * (IQR)\n",
    "\n",
    "# Printing lower_fence\n",
    "print(\"lower_fence :\", lower_fence)\n",
    "\n",
    "# Printing Higher_fence\n",
    "print(\"higher_fence :\", higher_fence)"
   ]
  },
  {
   "cell_type": "code",
   "execution_count": 11,
   "id": "5443c56a-c17e-41d6-8340-bcfb070f037e",
   "metadata": {},
   "outputs": [
    {
     "name": "stdout",
     "output_type": "stream",
     "text": [
      "71.0\n"
     ]
    }
   ],
   "source": [
    "# Printing IQR\n",
    "IQR = q3 - q1\n",
    "\n",
    "IQR = 74.375 - 3.375\n",
    "\n",
    "print(IQR)"
   ]
  },
  {
   "cell_type": "code",
   "execution_count": null,
   "id": "284299aa-7e82-4663-bb53-ea19bcd7c95f",
   "metadata": {},
   "outputs": [],
   "source": []
  },
  {
   "cell_type": "markdown",
   "id": "46625174-8e6d-49f4-9057-e8a6176dbd55",
   "metadata": {},
   "source": [
    "## Measure of Dispersion"
   ]
  },
  {
   "cell_type": "markdown",
   "id": "0a6e88e8-14df-4223-ae05-0e9e7aadf514",
   "metadata": {},
   "source": [
    "### 1. Variance\n",
    "### 2. Standard Deviation"
   ]
  },
  {
   "cell_type": "code",
   "execution_count": 16,
   "id": "3d4e3341-b4f0-46c3-872d-25ea52b3b79f",
   "metadata": {},
   "outputs": [
    {
     "data": {
      "text/plain": [
       "1283.4772727272727"
      ]
     },
     "execution_count": 16,
     "metadata": {},
     "output_type": "execute_result"
    }
   ],
   "source": [
    "statistics.variance(ages)    # Using Sample Variance -- Divided by n - 1\n"
   ]
  },
  {
   "cell_type": "code",
   "execution_count": 15,
   "id": "93cd1f7e-64f0-4c74-9bf7-3e52d75eb9d7",
   "metadata": {},
   "outputs": [
    {
     "data": {
      "text/plain": [
       "np.float64(1176.5208333333333)"
      ]
     },
     "execution_count": 15,
     "metadata": {},
     "output_type": "execute_result"
    }
   ],
   "source": [
    "np.var(ages, axis = 0)      # Using Population Variance -- Divided by n"
   ]
  },
  {
   "cell_type": "code",
   "execution_count": 23,
   "id": "747dd14a-b44a-4d96-8c9b-6fc45f6b0f47",
   "metadata": {},
   "outputs": [],
   "source": [
    "## For Population Variance\n",
    "\n",
    "def variance(data):\n",
    "    n = len(ages)\n",
    "\n",
    "    ## Mean of the data \n",
    "\n",
    "    mean = sum(data)/n\n",
    "\n",
    "    # Variance\n",
    "\n",
    "    deviation = [(x - mean) ** 2 for x in data]\n",
    "\n",
    "    variance = sum(deviation)/n             # Population variance hai\n",
    "\n",
    "    return variance\n"
   ]
  },
  {
   "cell_type": "code",
   "execution_count": 24,
   "id": "0780fb28-efd0-4b2d-bcff-6c3219ceba19",
   "metadata": {},
   "outputs": [
    {
     "data": {
      "text/plain": [
       "1176.5208333333333"
      ]
     },
     "execution_count": 24,
     "metadata": {},
     "output_type": "execute_result"
    }
   ],
   "source": [
    "variance(ages)"
   ]
  },
  {
   "cell_type": "code",
   "execution_count": 25,
   "id": "ccbda4b7-89b5-432e-9901-99c473b43cdb",
   "metadata": {},
   "outputs": [],
   "source": [
    "## For Sample Variance\n",
    "\n",
    "def variance(data):\n",
    "    n = len(ages)\n",
    "\n",
    "    ## Mean of the data \n",
    "\n",
    "    mean = sum(data)/n\n",
    "\n",
    "    # Variance\n",
    "\n",
    "    deviation = [(x - mean) ** 2 for x in data]\n",
    "\n",
    "    variance = sum(deviation)/(n-1)             # Population variance hai\n",
    "\n",
    "    return variance"
   ]
  },
  {
   "cell_type": "code",
   "execution_count": 26,
   "id": "9a457084-bb74-4c59-9955-da489a426f96",
   "metadata": {},
   "outputs": [
    {
     "data": {
      "text/plain": [
       "1283.4772727272727"
      ]
     },
     "execution_count": 26,
     "metadata": {},
     "output_type": "execute_result"
    }
   ],
   "source": [
    "variance(ages)"
   ]
  },
  {
   "cell_type": "code",
   "execution_count": 29,
   "id": "0912aaf1-bc69-4181-a9ad-feb9d3e50841",
   "metadata": {},
   "outputs": [],
   "source": [
    "## Degree of Freedom (dof)\n",
    "## 0 = Population dof, 1 = Sample dof\n",
    "\n",
    "def variance(data, dof = 0):\n",
    "    n = len(ages)\n",
    "\n",
    "    # Mean of the data\n",
    "\n",
    "    mean = sum(data)/n\n",
    "\n",
    "    # Variance\n",
    "\n",
    "    deviation = [(x - mean) ** 2 for x in data]\n",
    "    variance = sum(deviation)/(n - dof)\n",
    "    return variance\n",
    "\n"
   ]
  },
  {
   "cell_type": "code",
   "execution_count": 30,
   "id": "89cca234-820e-4b53-8c74-2231d4d6b176",
   "metadata": {},
   "outputs": [
    {
     "data": {
      "text/plain": [
       "1283.4772727272727"
      ]
     },
     "execution_count": 30,
     "metadata": {},
     "output_type": "execute_result"
    }
   ],
   "source": [
    "variance(ages, dof = 1)"
   ]
  },
  {
   "cell_type": "code",
   "execution_count": 31,
   "id": "aeb85a4a-c2c0-4865-af11-b92fa51b4fff",
   "metadata": {},
   "outputs": [],
   "source": [
    "def variance(data, dof = 1):\n",
    "    n = len(ages)\n",
    "\n",
    "    # Mean of the data\n",
    "\n",
    "    mean = sum(data)/n\n",
    "\n",
    "    # Variance\n",
    "\n",
    "    deviation = [(x - mean) ** 2 for x in data]\n",
    "    variance = sum(deviation)/(n - dof)\n",
    "    return variance"
   ]
  },
  {
   "cell_type": "code",
   "execution_count": 32,
   "id": "596e9d29-ad67-4534-b09a-56dd0559a560",
   "metadata": {},
   "outputs": [
    {
     "data": {
      "text/plain": [
       "1176.5208333333333"
      ]
     },
     "execution_count": 32,
     "metadata": {},
     "output_type": "execute_result"
    }
   ],
   "source": [
    "variance(ages, dof = 0)"
   ]
  },
  {
   "cell_type": "code",
   "execution_count": null,
   "id": "19034bf9-ed38-409d-93e9-284746587146",
   "metadata": {},
   "outputs": [],
   "source": [
    "\n"
   ]
  },
  {
   "cell_type": "code",
   "execution_count": 34,
   "id": "c65c0c6d-67c8-482c-8866-ebc8b2549ada",
   "metadata": {},
   "outputs": [
    {
     "data": {
      "text/plain": [
       "1176.5208333333333"
      ]
     },
     "execution_count": 34,
     "metadata": {},
     "output_type": "execute_result"
    }
   ],
   "source": [
    "## Isse bhi population variance nikal sakta hai.\n",
    "\n",
    "statistics.pvariance(ages)   "
   ]
  },
  {
   "cell_type": "code",
   "execution_count": null,
   "id": "3397c760-3dde-451f-adf4-22cf3381781b",
   "metadata": {},
   "outputs": [],
   "source": []
  },
  {
   "cell_type": "code",
   "execution_count": 35,
   "id": "05a67678-18cf-4761-b790-ce7cdd2b95af",
   "metadata": {},
   "outputs": [
    {
     "data": {
      "text/plain": [
       "34.30044946255563"
      ]
     },
     "execution_count": 35,
     "metadata": {},
     "output_type": "execute_result"
    }
   ],
   "source": [
    "# Find Standard Deviation\n",
    "\n",
    "import math\n",
    "math.sqrt(statistics.pvariance(ages))"
   ]
  },
  {
   "cell_type": "code",
   "execution_count": null,
   "id": "4ed6e458-587c-44ed-bae5-82f76ed4d044",
   "metadata": {},
   "outputs": [],
   "source": []
  },
  {
   "cell_type": "markdown",
   "id": "f417fa25-cc40-493b-bcb9-8126007bac2f",
   "metadata": {},
   "source": [
    "# Histograms And PDF"
   ]
  },
  {
   "cell_type": "code",
   "execution_count": 37,
   "id": "fe27e76b-4522-4fe6-b862-2a4138618f8c",
   "metadata": {},
   "outputs": [
    {
     "data": {
      "text/plain": [
       "<Axes: ylabel='Count'>"
      ]
     },
     "execution_count": 37,
     "metadata": {},
     "output_type": "execute_result"
    },
    {
     "data": {
      "image/png": "[encoded data removed]",
      "text/plain": [
       "<Figure size 640x480 with 1 Axes>"
      ]
     },
     "metadata": {},
     "output_type": "display_data"
    }
   ],
   "source": [
    "import seaborn as sns\n",
    "sns.histplot(ages)"
   ]
  },
  {
   "cell_type": "code",
   "execution_count": 39,
   "id": "b0466479-e4a4-47a3-9e0b-a4df613ac98a",
   "metadata": {},
   "outputs": [
    {
     "data": {
      "text/plain": [
       "<Axes: ylabel='Count'>"
      ]
     },
     "execution_count": 39,
     "metadata": {},
     "output_type": "execute_result"
    },
    {
     "data": {
      "image/png": "[encoded data removed]",
      "text/plain": [
       "<Figure size 640x480 with 1 Axes>"
      ]
     },
     "metadata": {},
     "output_type": "display_data"
    }
   ],
   "source": [
    "# Probability density function\n",
    "\n",
    "import seaborn as sns\n",
    "sns.histplot(ages, kde = True)"
   ]
  },
  {
   "cell_type": "code",
   "execution_count": null,
   "id": "9f015948-9a8a-4f4b-8e2d-58f508652b5b",
   "metadata": {},
   "outputs": [],
   "source": []
  },
  {
   "cell_type": "markdown",
   "id": "2e1a3476-ebd7-420e-964a-44b644a00592",
   "metadata": {},
   "source": [
    "## Sample Dataset"
   ]
  },
  {
   "cell_type": "code",
   "execution_count": 40,
   "id": "73fde37e-0ace-4dfe-9e6f-427c77ace000",
   "metadata": {},
   "outputs": [],
   "source": [
    "df = sns.load_dataset('iris')"
   ]
  },
  {
   "cell_type": "code",
   "execution_count": 41,
   "id": "ea462df2-ec41-4d17-b106-294370033573",
   "metadata": {},
   "outputs": [
    {
     "data": {
      "text/html": [
       "<div>\n",
       "<style scoped>\n",
       "    .dataframe tbody tr th:only-of-type {\n",
       "        vertical-align: middle;\n",
       "    }\n",
       "\n",
       "    .dataframe tbody tr th {\n",
       "        vertical-align: top;\n",
       "    }\n",
       "\n",
       "    .dataframe thead th {\n",
       "        text-align: right;\n",
       "    }\n",
       "</style>\n",
       "<table border=\"1\" class=\"dataframe\">\n",
       "  <thead>\n",
       "    <tr style=\"text-align: right;\">\n",
       "      <th></th>\n",
       "      <th>sepal_length</th>\n",
       "      <th>sepal_width</th>\n",
       "      <th>petal_length</th>\n",
       "      <th>petal_width</th>\n",
       "      <th>species</th>\n",
       "    </tr>\n",
       "  </thead>\n",
       "  <tbody>\n",
       "    <tr>\n",
       "      <th>0</th>\n",
       "      <td>5.1</td>\n",
       "      <td>3.5</td>\n",
       "      <td>1.4</td>\n",
       "      <td>0.2</td>\n",
       "      <td>setosa</td>\n",
       "    </tr>\n",
       "    <tr>\n",
       "      <th>1</th>\n",
       "      <td>4.9</td>\n",
       "      <td>3.0</td>\n",
       "      <td>1.4</td>\n",
       "      <td>0.2</td>\n",
       "      <td>setosa</td>\n",
       "    </tr>\n",
       "    <tr>\n",
       "      <th>2</th>\n",
       "      <td>4.7</td>\n",
       "      <td>3.2</td>\n",
       "      <td>1.3</td>\n",
       "      <td>0.2</td>\n",
       "      <td>setosa</td>\n",
       "    </tr>\n",
       "    <tr>\n",
       "      <th>3</th>\n",
       "      <td>4.6</td>\n",
       "      <td>3.1</td>\n",
       "      <td>1.5</td>\n",
       "      <td>0.2</td>\n",
       "      <td>setosa</td>\n",
       "    </tr>\n",
       "    <tr>\n",
       "      <th>4</th>\n",
       "      <td>5.0</td>\n",
       "      <td>3.6</td>\n",
       "      <td>1.4</td>\n",
       "      <td>0.2</td>\n",
       "      <td>setosa</td>\n",
       "    </tr>\n",
       "  </tbody>\n",
       "</table>\n",
       "</div>"
      ],
      "text/plain": [
       "   sepal_length  sepal_width  petal_length  petal_width species\n",
       "0           5.1          3.5           1.4          0.2  setosa\n",
       "1           4.9          3.0           1.4          0.2  setosa\n",
       "2           4.7          3.2           1.3          0.2  setosa\n",
       "3           4.6          3.1           1.5          0.2  setosa\n",
       "4           5.0          3.6           1.4          0.2  setosa"
      ]
     },
     "execution_count": 41,
     "metadata": {},
     "output_type": "execute_result"
    }
   ],
   "source": [
    "df.head()"
   ]
  },
  {
   "cell_type": "code",
   "execution_count": 45,
   "id": "75b76342-06a2-48db-8558-292065699bdd",
   "metadata": {},
   "outputs": [
    {
     "data": {
      "text/plain": [
       "<Axes: xlabel='sepal_length', ylabel='Count'>"
      ]
     },
     "execution_count": 45,
     "metadata": {},
     "output_type": "execute_result"
    },
    {
     "data": {
      "image/png": "[encoded data removed]",
      "text/plain": [
       "<Figure size 640x480 with 1 Axes>"
      ]
     },
     "metadata": {},
     "output_type": "display_data"
    }
   ],
   "source": [
    "sns.histplot(df['sepal_length'], kde = True)          # Sepal_length"
   ]
  },
  {
   "cell_type": "code",
   "execution_count": 46,
   "id": "ccd50715-0848-4e3d-96b8-c89969cb1305",
   "metadata": {},
   "outputs": [
    {
     "data": {
      "text/plain": [
       "<Axes: xlabel='sepal_width', ylabel='Count'>"
      ]
     },
     "execution_count": 46,
     "metadata": {},
     "output_type": "execute_result"
    },
    {
     "data": {
      "image/png": "[encoded data removed]",
      "text/plain": [
       "<Figure size 640x480 with 1 Axes>"
      ]
     },
     "metadata": {},
     "output_type": "display_data"
    }
   ],
   "source": [
    "sns.histplot(df['sepal_width'], kde = True)          # Sepal Width"
   ]
  },
  {
   "cell_type": "code",
   "execution_count": null,
   "id": "362dafac-64bd-4587-a2f1-d5b6199bf209",
   "metadata": {},
   "outputs": [],
   "source": []
  },
  {
   "cell_type": "code",
   "execution_count": 48,
   "id": "5413374b-9792-4034-91f3-7a98f74e9b87",
   "metadata": {},
   "outputs": [
    {
     "data": {
      "text/plain": [
       "<Axes: xlabel='petal_length', ylabel='Count'>"
      ]
     },
     "execution_count": 48,
     "metadata": {},
     "output_type": "execute_result"
    },
    {
     "data": {
      "image/png": "[encoded data removed]",
      "text/plain": [
       "<Figure size 640x480 with 1 Axes>"
      ]
     },
     "metadata": {},
     "output_type": "display_data"
    }
   ],
   "source": [
    "sns.histplot(df['petal_length'], kde = True)          # Petal length"
   ]
  },
  {
   "cell_type": "code",
   "execution_count": 49,
   "id": "8aff7a35-25cf-49c3-b5d0-a4424992dfb7",
   "metadata": {},
   "outputs": [
    {
     "data": {
      "text/plain": [
       "<Axes: xlabel='petal_width', ylabel='Count'>"
      ]
     },
     "execution_count": 49,
     "metadata": {},
     "output_type": "execute_result"
    },
    {
     "data": {
      "image/png": "[encoded data removed]",
      "text/plain": [
       "<Figure size 640x480 with 1 Axes>"
      ]
     },
     "metadata": {},
     "output_type": "display_data"
    }
   ],
   "source": [
    "sns.histplot(df['petal_width'], kde = True)          # Petal width"
   ]
  },
  {
   "cell_type": "code",
   "execution_count": null,
   "id": "77257895-f562-42d4-a05f-6bffff695494",
   "metadata": {},
   "outputs": [],
   "source": []
  }
 ],
 "metadata": {
  "kernelspec": {
   "display_name": "Python 3 (ipykernel)",
   "language": "python",
   "name": "python3"
  },
  "language_info": {
   "codemirror_mode": {
    "name": "ipython",
    "version": 3
   },
   "file_extension": ".py",
   "mimetype": "text/x-python",
   "name": "python",
   "nbconvert_exporter": "python",
   "pygments_lexer": "ipython3",
   "version": "3.11.4"
  }
 },
 "nbformat": 4,
 "nbformat_minor": 5
}
